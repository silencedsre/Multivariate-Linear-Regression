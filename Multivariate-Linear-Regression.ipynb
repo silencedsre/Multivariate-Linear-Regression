{
 "cells": [
  {
   "cell_type": "markdown",
   "metadata": {},
   "source": [
    "### Suppose we have `n` features and `m` observations"
   ]
  },
  {
   "cell_type": "markdown",
   "metadata": {},
   "source": [
    "| Index        | $X_{1}$       | $X_{2}$       | $X_{3}$       | .... | .... | $X_{n}$        | y        |\n",
    "|--------------|---------------|---------------|---------------|------|------|----------------|----------|\n",
    "| 1            | $x_{1}^{1} $  | $x_{2}^{1}$   | $x_{3}^{1}$   | ...  | ...  | $x_{n}^{1}$    | $y^{1}$  |\n",
    "| 2            | $x_{1}^{2}$   | $x_{2}^{2}$   | $x_{3}^{2}$   | ...  | ...  | $x_{n}^{2}$    | $y^{2}$  |\n",
    "| 3            | $x_{1}^{3}$   | $x_{2}^{3}$   | $x_{3}^{3}$   | ...  | ...  | $x_{n}^{3}$    | $y^{3}$  |\n",
    "| .            | .             | .             | .             | ...  | ...  | .              |          |\n",
    "| .            | .             | .             | .             | ...  | ...  | .              |          |\n",
    "| .            | .             | .             | .             | ...  | ...  | .              |          |\n",
    "| m            | $x_{1}^{m}$   | $x_{2}^{m}$   | $x_{3}^{m}$   | ...  | ...  | $x_{n}^{m}$    | $y^{m}$  |"
   ]
  },
  {
   "cell_type": "markdown",
   "metadata": {},
   "source": [
    "Here `subscript` denotes feature and `superscript` denote observation number"
   ]
  },
  {
   "cell_type": "markdown",
   "metadata": {},
   "source": [
    "Suppose the weights of matrix for n features is denoted by column vectors of shape [1, n]\n",
    "<br/>\n",
    "$$ \\beta = \\begin{bmatrix} \\beta_{1} & \\beta_{2} & \\beta_{3} & .... &  \\beta_{n} \\end{bmatrix} $$"
   ]
  },
  {
   "cell_type": "markdown",
   "metadata": {},
   "source": [
    "### we need to calculate prediction for each observation"
   ]
  },
  {
   "cell_type": "markdown",
   "metadata": {},
   "source": [
    "\\begin{equation}\n",
    "\\hat{y^1} = \\beta_{0} + \\beta_{1}x_{1}^{1} +  \\beta_{2}x_{2}^{1}  +  \\beta_{3}x_{3}^{1}  +  \\beta_{3}x_{3}^{1} + .... + \\beta_{n}x_{n}^{1}\n",
    "\\end{equation}\n",
    "\n",
    "\\begin{equation}\n",
    "\\hat{y^2} = \\beta_{0} + \\beta_{1}x_{1}^{2} +  \\beta_{2}x_{2}^{2}  +  \\beta_{3}x_{3}^{2}  +  \\beta_{3}x_{3}^{2} + .... + \\beta_{n}x_{n}^{2}\n",
    "\\end{equation}\n",
    "\n",
    "\n",
    "\\begin{equation}\n",
    "\\hat{y^3} =  \\beta_{0} +\\beta_{1}x_{1}^{3} +  \\beta_{2}x_{2}^{3}  +  \\beta_{3}x_{3}^{3}  +  \\beta_{3}x_{3}^{3} + .... + \\beta_{n}x_{n}^{3}\n",
    "\\end{equation}\n",
    "\n",
    "\\begin{equation}\n",
    " ..................\n",
    "\\end{equation}\n",
    "\n",
    "\\begin{equation}\n",
    " ..................\n",
    "\\end{equation}\n",
    "\n",
    "\\begin{equation}\n",
    "\\hat{y^m} =  \\beta_{0} +\\beta_{1}x_{1}^{m} +  \\beta_{2}x_{2}^{m}  +  \\beta_{3}x_{3}^{m}  +  \\beta_{3}x_{3}^{m} + .... + \\beta_{n}x_{n}^{m}\n",
    "\\end{equation}"
   ]
  },
  {
   "cell_type": "markdown",
   "metadata": {},
   "source": [
    "### In matrix form "
   ]
  },
  {
   "cell_type": "markdown",
   "metadata": {},
   "source": [
    "\\begin{equation}\n",
    "\\begin{bmatrix} \\hat{y}^{1} \\\\ \\hat{y}^{2} \\\\ \\hat{y}^{3} \\\\ .. \\\\.. \\\\  \\hat{y}^{m} \\end{bmatrix} = \n",
    "\\begin{bmatrix} x_{1}^{1} & x_{2}^{1} & x_{3}^{1} & .... &  x_{n}^{1}\n",
    "           \\\\ x_{1}^{2} & x_{2}^{2} & x_{3}^{2} & .... &  x_{n}^{2}\n",
    "           \\\\ x_{1}^{3} & x_{2}^{3} & x_{3}^{3} & .... &  x_{n}^{3}\n",
    "           \\\\.... &.... & ... &.... &....\n",
    "           \\\\.... &.... & ... &.... &....\n",
    "            \\\\ x_{1}^{m} & x_{2}^{m} & x_{3}^{m} & .... &  x_{n}^{m}\n",
    "\\end{bmatrix}\n",
    "*\n",
    "\\begin{bmatrix} \\beta_{1} \\\\ \\beta_{2} \\\\ \\beta_{3} \\\\ .. \\\\.. \\\\  \\beta_{n} \\end{bmatrix}\n",
    "+ \\beta_{0}\n",
    "\\end{equation}"
   ]
  },
  {
   "cell_type": "markdown",
   "metadata": {},
   "source": [
    "\\begin{equation} \\hat{y} = X.\\beta^{T} + \\beta_{0} \\end{equation}"
   ]
  },
  {
   "cell_type": "markdown",
   "metadata": {},
   "source": [
    "#### Equivalent numpy implementation is:"
   ]
  },
  {
   "cell_type": "markdown",
   "metadata": {},
   "source": [
    "   \\begin{equation} \\hat{y} = np.dot(X, \\beta.T) + \\beta_{0} \\end{equation}"
   ]
  },
  {
   "cell_type": "markdown",
   "metadata": {},
   "source": [
    "### The Mean Squared Error cost function is:"
   ]
  },
  {
   "cell_type": "markdown",
   "metadata": {},
   "source": [
    "$$ J(\\beta, \\beta_{0}) = \\frac{1}{2m}\\sum_{n=1}^{m}   (y - \\hat{y})^{2} $$"
   ]
  },
  {
   "cell_type": "markdown",
   "metadata": {},
   "source": [
    "#### Equivalent numpy implementation is:"
   ]
  },
  {
   "cell_type": "markdown",
   "metadata": {},
   "source": [
    "`cost = (1/(2*m))*np.sum((y-y_hat)**2)`"
   ]
  },
  {
   "cell_type": "markdown",
   "metadata": {},
   "source": [
    "### Just for confirmation let us take an example"
   ]
  },
  {
   "cell_type": "markdown",
   "metadata": {},
   "source": [
    "| y | $\\hat{y}$ | (y - $\\hat{y}$)^2 |\n",
    "|---|---------|-----------------|\n",
    "| 2 | 1       | 1               |\n",
    "| 4 | 2       | 4               |\n",
    "| 6 | 3       | 9               |\n",
    "|  |        | 14               |\n",
    "\n",
    "\\begin{equation} 14/3 = 4.67 \\end{equation}"
   ]
  },
  {
   "cell_type": "code",
   "execution_count": 21,
   "metadata": {
    "pycharm": {
     "is_executing": false
    }
   },
   "outputs": [],
   "source": [
    "import numpy as np\n",
    "\n",
    "y=np.array([[2],\n",
    "           [4],\n",
    "           [6]])\n",
    "y_hat=np.array([[1],\n",
    "           [2],\n",
    "           [3]])"
   ]
  },
  {
   "cell_type": "code",
   "execution_count": 22,
   "metadata": {
    "pycharm": {
     "is_executing": false
    }
   },
   "outputs": [
    {
     "data": {
      "text/plain": "4.666666666666667"
     },
     "metadata": {},
     "output_type": "execute_result",
     "execution_count": 22
    }
   ],
   "source": [
    "np.sum((y-y_hat)**2)/3"
   ]
  },
  {
   "cell_type": "markdown",
   "metadata": {},
   "source": [
    "### Now lets calculate the gradient descent"
   ]
  },
  {
   "cell_type": "markdown",
   "metadata": {},
   "source": [
    "### We have the loss function  defined as"
   ]
  },
  {
   "cell_type": "markdown",
   "metadata": {},
   "source": [
    "$$ J(\\beta, \\beta_{0}) = \\frac{1}{2m}\\sum_{n=1}^{m}   (y - \\hat{y})^{2}   $$"
   ]
  },
  {
   "cell_type": "markdown",
   "metadata": {},
   "source": [
    "where: $$ \\hat{y} = \\beta_{0} + X*\\beta^{T} $$"
   ]
  },
  {
   "cell_type": "markdown",
   "metadata": {},
   "source": [
    "So:\n",
    "$$ \\frac {\\partial J(\\beta, \\beta_{0})}{\\partial \\beta_{0}} = \n",
    "\\frac{-1}{m}\\sum_{n=1}^{m}(y-\\hat{y}) $$"
   ]
  },
  {
   "cell_type": "markdown",
   "metadata": {},
   "source": [
    "Again: $$ J(\\beta, \\beta_{0}) = \\frac{1}{2m}\\sum_{n=1}^{m}   (y - \\hat{y})^{2}   $$"
   ]
  },
  {
   "cell_type": "markdown",
   "metadata": {},
   "source": [
    "$$ \\frac {\\partial J(\\beta, \\beta_{0})}{\\partial \\beta} = \\frac{-1}{m}\\sum_{n=1}^{m}   (y - \\hat{y}) * \\frac{\\partial (\\beta_{0} + X*\\beta^{T})}{\\partial \\beta} $$"
   ]
  },
  {
   "cell_type": "markdown",
   "metadata": {},
   "source": [
    "$$ \\frac {\\partial J(\\beta, \\beta_{0})}{\\partial \\beta} = \n",
    "\\frac{-1}{m}\\sum_{n=1}^{m}(y-\\hat{y})*X * \\frac{\\partial \\beta^{T}}{\\partial \\beta} $$"
   ]
  },
  {
   "cell_type": "markdown",
   "metadata": {},
   "source": [
    "where $$ \\beta = \\begin{bmatrix} \\beta_{1} & \\beta_{2} & \\beta_{3} &.... & \\beta_{n} \\end{bmatrix}$$ \n",
    "\n",
    "and\n",
    "\n",
    "$$ \\beta^{T} = \\begin{bmatrix} \\beta_{1} \\\\ \\beta_{2} \\\\ \\beta_{3} \\\\.... \\\\ \\beta_{n} \\end{bmatrix}$$ \n"
   ]
  },
  {
   "cell_type": "markdown",
   "metadata": {},
   "source": [
    "Since: $$ \\frac{\\partial \\beta^{T}}{\\partial \\beta} =1 $$"
   ]
  },
  {
   "cell_type": "markdown",
   "metadata": {},
   "source": [
    "So: $$ \\frac {\\partial J(\\beta, \\beta_{0})}{\\partial \\beta} = \n",
    "\\frac{-1}{m}\\sum_{n=1}^{m}(y-\\hat{y})*X $$"
   ]
  },
  {
   "cell_type": "markdown",
   "metadata": {},
   "source": [
    "### Shape of $$ \\sum_{n=1}^{m}(y-\\hat{y}) $$  `m rows and 1 cols [m, 1]`\n",
    "\n",
    "### Shape of `X is [m, n] ie m observations and n features`\n",
    "\n",
    "### Required shape of `dB is [1, n] `\n",
    "\n",
    "### [1, m] * [m, n] == [1, n]"
   ]
  },
  {
   "cell_type": "markdown",
   "metadata": {},
   "source": [
    "## Equivalent Numpy Implementation is:"
   ]
  },
  {
   "cell_type": "markdown",
   "metadata": {},
   "source": [
    " `dB = (1/m)* np.dot((y-y_hat).T, X)`\n",
    " <br/>\n",
    "  `db = (1/m)*np.sum(y-y_hat)`"
   ]
  },
  {
   "cell_type": "code",
   "execution_count": 23,
   "metadata": {
    "pycharm": {
     "is_executing": false
    }
   },
   "outputs": [],
   "source": [
    "def propagate(B, b, X, Y):\n",
    "    \"\"\"\n",
    "    params:\n",
    "    B: weights of size [1, X.shape[0]]\n",
    "    b: bias\n",
    "    X: matrix of observations and features size [X.shape[0], X.shape[1]]\n",
    "    Y: matrix of actual observation size [Y.shape[0], 1]\n",
    "    \n",
    "    returns:\n",
    "    grads: dict of gradients, dB of shape same as B and db of shape [1, 1].\n",
    "    cost: MSE cost of shape [m, 1]\n",
    "    \"\"\"\n",
    "    \n",
    "    ## m is no of observations ie rows of X\n",
    "    m = X.shape[0]\n",
    "    \n",
    "    #Calculate hypothesis\n",
    "    y_hat = np.dot(X, B.T) + b\n",
    "    \n",
    "    y = Y.values.reshape(Y.shape[0],1)\n",
    "    \n",
    "    #Compute Cost\n",
    "    cost = (1/(2*m))*np.sum((y-y_hat)**2)\n",
    "    \n",
    "    # BACKWARD PROPAGATION (TO FIND GRAD)\n",
    "    dB = (-1/m)* np.dot((y-y_hat).T, X)\n",
    "    \n",
    "    db = -np.sum(y-y_hat)/m\n",
    "    \n",
    "    grads = {\"dB\": dB,\n",
    "             \"db\": db}\n",
    "    \n",
    "    return grads, cost"
   ]
  },
  {
   "cell_type": "code",
   "execution_count": 24,
   "metadata": {
    "pycharm": {
     "is_executing": false
    }
   },
   "outputs": [],
   "source": [
    "def optimize(B, b, X, Y, num_iterations, learning_rate):\n",
    "    \"\"\"\n",
    "    params:\n",
    "    B: weights of size [1, X.shape[0]]\n",
    "    b: bias\n",
    "    X: matrix of observations and features size [X.shape[0], X.shape[1]]\n",
    "    Y: matrix of actual observation size [Y.shape[0], 1]\n",
    "    num_iterations: number of iterations\n",
    "    learning_rate: learning rate\n",
    "    returns:\n",
    "    params: parameters B of shape [1, X.shape[0]] and bias\n",
    "    grads: dict of gradients, dB of shape same as B and db\n",
    "    costs:  MSE cost \n",
    "    \"\"\"\n",
    "    costs = []\n",
    "    \n",
    "    for i in range(num_iterations):\n",
    "        \n",
    "        \n",
    "        # Cost and gradient calculation call function propagate\n",
    "        grads, cost = propagate(B,b,X,Y)\n",
    "        \n",
    "        # Retrieve derivatives from grads\n",
    "        dB = grads[\"dB\"]\n",
    "        db = grads[\"db\"]\n",
    "        \n",
    "        # update parameters\n",
    "        B = B - learning_rate * dB\n",
    "        b = b - learning_rate * db\n",
    "        \n",
    "        costs.append(cost)\n",
    "    \n",
    "    params = {\"B\": B,\n",
    "              \"b\": b}\n",
    "    \n",
    "    grads = {\"dB\": dB,\n",
    "             \"db\": db}\n",
    "    \n",
    "    return params, grads, costs"
   ]
  },
  {
   "cell_type": "code",
   "execution_count": 25,
   "metadata": {
    "pycharm": {
     "is_executing": false
    }
   },
   "outputs": [],
   "source": [
    "def predict(B, b, X):\n",
    "    \"\"\":param\n",
    "    B: weights\n",
    "    b: bias\n",
    "    X: matrix of observations and features\n",
    "    \"\"\"\n",
    "  # Compute predictions for X\n",
    "    Y_prediction = np.dot(X, B.T) + b\n",
    "    return Y_prediction"
   ]
  },
  {
   "cell_type": "code",
   "execution_count": 26,
   "metadata": {
    "pycharm": {
     "is_executing": false
    }
   },
   "outputs": [],
   "source": [
    "def model(X_train, Y_train, X_test, Y_test, num_iterations = 2000, learning_rate = 0.5):\n",
    "    \"\"\"\n",
    "    params: \n",
    "    X_train: X_train\n",
    "    Y_train: Y_train\n",
    "    X_test: X_test\n",
    "    Y_test: Y_test\n",
    "    \n",
    "    returns:\n",
    "    d: dictionary\n",
    "    \"\"\"\n",
    "    \n",
    "    \n",
    "    # initialize parameters with zeros \n",
    "    B = np.zeros(shape=(1, X_train.shape[1]))\n",
    "    b = 0\n",
    "    \n",
    "    # Gradient descent\n",
    "    parameters, grads, costs = optimize(B, b, X_train, Y_train, num_iterations, learning_rate)\n",
    "    \n",
    "    # Retrieve parameters w and b from dictionary \"parameters\"\n",
    "    B = parameters[\"B\"]\n",
    "    b = parameters[\"b\"]\n",
    "    \n",
    "    # Predict test/train set examples\n",
    "    Y_prediction_test = predict(B, b, X_test)\n",
    "    Y_prediction_train = predict(B, b, X_train)\n",
    "    \n",
    "    Y_train = Y_train.values.reshape(Y_train.shape[0], 1)\n",
    "    Y_test = Y_test.values.reshape(Y_test.shape[0], 1)\n",
    "\n",
    "   # Print train/test Errors\n",
    "    print(\"train accuracy: {} %\".format(100 - np.mean(np.abs(Y_prediction_train - Y_train)) * 100))\n",
    "    print(\"test accuracy: {} %\".format(100 - np.mean(np.abs(Y_prediction_test - Y_test)) * 100))\n",
    "\n",
    "    \n",
    "    d = {\"costs\": costs,\n",
    "         \"Y_prediction_test\": Y_prediction_test, \n",
    "         \"Y_prediction_train\" : Y_prediction_train, \n",
    "         \"B\" : B, \n",
    "         \"b\" : b,\n",
    "         \"learning_rate\" : learning_rate,\n",
    "         \"num_iterations\": num_iterations}\n",
    "    \n",
    "    return d"
   ]
  },
  {
   "cell_type": "code",
   "execution_count": 27,
   "metadata": {
    "pycharm": {
     "is_executing": false
    }
   },
   "outputs": [],
   "source": [
    "import pandas as pd\n",
    "df = pd.read_csv('USA_Housing.csv')"
   ]
  },
  {
   "cell_type": "code",
   "execution_count": 28,
   "metadata": {
    "pycharm": {
     "is_executing": false
    }
   },
   "outputs": [
    {
     "data": {
      "text/plain": "      Avg. Area Income  Avg. Area House Age  Avg. Area Number of Rooms  \\\n0         79545.458574             5.682861                   7.009188   \n1         79248.642455             6.002900                   6.730821   \n2         61287.067179             5.865890                   8.512727   \n3         63345.240046             7.188236                   5.586729   \n4         59982.197226             5.040555                   7.839388   \n...                ...                  ...                        ...   \n4995      60567.944140             7.830362                   6.137356   \n4996      78491.275435             6.999135                   6.576763   \n4997      63390.686886             7.250591                   4.805081   \n4998      68001.331235             5.534388                   7.130144   \n4999      65510.581804             5.992305                   6.792336   \n\n      Avg. Area Number of Bedrooms  Area Population         Price  \\\n0                             4.09     23086.800503  1.059034e+06   \n1                             3.09     40173.072174  1.505891e+06   \n2                             5.13     36882.159400  1.058988e+06   \n3                             3.26     34310.242831  1.260617e+06   \n4                             4.23     26354.109472  6.309435e+05   \n...                            ...              ...           ...   \n4995                          3.46     22837.361035  1.060194e+06   \n4996                          4.02     25616.115489  1.482618e+06   \n4997                          2.13     33266.145490  1.030730e+06   \n4998                          5.44     42625.620156  1.198657e+06   \n4999                          4.07     46501.283803  1.298950e+06   \n\n                                                Address  \n0     208 Michael Ferry Apt. 674\\nLaurabury, NE 3701...  \n1     188 Johnson Views Suite 079\\nLake Kathleen, CA...  \n2     9127 Elizabeth Stravenue\\nDanieltown, WI 06482...  \n3                             USS Barnett\\nFPO AP 44820  \n4                            USNS Raymond\\nFPO AE 09386  \n...                                                 ...  \n4995                   USNS Williams\\nFPO AP 30153-7653  \n4996              PSC 9258, Box 8489\\nAPO AA 42991-3352  \n4997  4215 Tracy Garden Suite 076\\nJoshualand, VA 01...  \n4998                          USS Wallace\\nFPO AE 73316  \n4999  37778 George Ridges Apt. 509\\nEast Holly, NV 2...  \n\n[5000 rows x 7 columns]",
      "text/html": "<div>\n<style scoped>\n    .dataframe tbody tr th:only-of-type {\n        vertical-align: middle;\n    }\n\n    .dataframe tbody tr th {\n        vertical-align: top;\n    }\n\n    .dataframe thead th {\n        text-align: right;\n    }\n</style>\n<table border=\"1\" class=\"dataframe\">\n  <thead>\n    <tr style=\"text-align: right;\">\n      <th></th>\n      <th>Avg. Area Income</th>\n      <th>Avg. Area House Age</th>\n      <th>Avg. Area Number of Rooms</th>\n      <th>Avg. Area Number of Bedrooms</th>\n      <th>Area Population</th>\n      <th>Price</th>\n      <th>Address</th>\n    </tr>\n  </thead>\n  <tbody>\n    <tr>\n      <th>0</th>\n      <td>79545.458574</td>\n      <td>5.682861</td>\n      <td>7.009188</td>\n      <td>4.09</td>\n      <td>23086.800503</td>\n      <td>1.059034e+06</td>\n      <td>208 Michael Ferry Apt. 674\\nLaurabury, NE 3701...</td>\n    </tr>\n    <tr>\n      <th>1</th>\n      <td>79248.642455</td>\n      <td>6.002900</td>\n      <td>6.730821</td>\n      <td>3.09</td>\n      <td>40173.072174</td>\n      <td>1.505891e+06</td>\n      <td>188 Johnson Views Suite 079\\nLake Kathleen, CA...</td>\n    </tr>\n    <tr>\n      <th>2</th>\n      <td>61287.067179</td>\n      <td>5.865890</td>\n      <td>8.512727</td>\n      <td>5.13</td>\n      <td>36882.159400</td>\n      <td>1.058988e+06</td>\n      <td>9127 Elizabeth Stravenue\\nDanieltown, WI 06482...</td>\n    </tr>\n    <tr>\n      <th>3</th>\n      <td>63345.240046</td>\n      <td>7.188236</td>\n      <td>5.586729</td>\n      <td>3.26</td>\n      <td>34310.242831</td>\n      <td>1.260617e+06</td>\n      <td>USS Barnett\\nFPO AP 44820</td>\n    </tr>\n    <tr>\n      <th>4</th>\n      <td>59982.197226</td>\n      <td>5.040555</td>\n      <td>7.839388</td>\n      <td>4.23</td>\n      <td>26354.109472</td>\n      <td>6.309435e+05</td>\n      <td>USNS Raymond\\nFPO AE 09386</td>\n    </tr>\n    <tr>\n      <th>...</th>\n      <td>...</td>\n      <td>...</td>\n      <td>...</td>\n      <td>...</td>\n      <td>...</td>\n      <td>...</td>\n      <td>...</td>\n    </tr>\n    <tr>\n      <th>4995</th>\n      <td>60567.944140</td>\n      <td>7.830362</td>\n      <td>6.137356</td>\n      <td>3.46</td>\n      <td>22837.361035</td>\n      <td>1.060194e+06</td>\n      <td>USNS Williams\\nFPO AP 30153-7653</td>\n    </tr>\n    <tr>\n      <th>4996</th>\n      <td>78491.275435</td>\n      <td>6.999135</td>\n      <td>6.576763</td>\n      <td>4.02</td>\n      <td>25616.115489</td>\n      <td>1.482618e+06</td>\n      <td>PSC 9258, Box 8489\\nAPO AA 42991-3352</td>\n    </tr>\n    <tr>\n      <th>4997</th>\n      <td>63390.686886</td>\n      <td>7.250591</td>\n      <td>4.805081</td>\n      <td>2.13</td>\n      <td>33266.145490</td>\n      <td>1.030730e+06</td>\n      <td>4215 Tracy Garden Suite 076\\nJoshualand, VA 01...</td>\n    </tr>\n    <tr>\n      <th>4998</th>\n      <td>68001.331235</td>\n      <td>5.534388</td>\n      <td>7.130144</td>\n      <td>5.44</td>\n      <td>42625.620156</td>\n      <td>1.198657e+06</td>\n      <td>USS Wallace\\nFPO AE 73316</td>\n    </tr>\n    <tr>\n      <th>4999</th>\n      <td>65510.581804</td>\n      <td>5.992305</td>\n      <td>6.792336</td>\n      <td>4.07</td>\n      <td>46501.283803</td>\n      <td>1.298950e+06</td>\n      <td>37778 George Ridges Apt. 509\\nEast Holly, NV 2...</td>\n    </tr>\n  </tbody>\n</table>\n<p>5000 rows × 7 columns</p>\n</div>"
     },
     "metadata": {},
     "output_type": "execute_result",
     "execution_count": 28
    }
   ],
   "source": [
    "df"
   ]
  },
  {
   "cell_type": "code",
   "execution_count": 29,
   "metadata": {
    "pycharm": {
     "is_executing": false
    }
   },
   "outputs": [],
   "source": [
    "df.drop(['Address'],axis=1,inplace=True)"
   ]
  },
  {
   "cell_type": "code",
   "execution_count": 30,
   "metadata": {
    "pycharm": {
     "is_executing": false
    }
   },
   "outputs": [
    {
     "data": {
      "text/plain": "   Avg. Area Income  Avg. Area House Age  Avg. Area Number of Rooms  \\\n0      79545.458574             5.682861                   7.009188   \n1      79248.642455             6.002900                   6.730821   \n2      61287.067179             5.865890                   8.512727   \n3      63345.240046             7.188236                   5.586729   \n4      59982.197226             5.040555                   7.839388   \n\n   Avg. Area Number of Bedrooms  Area Population         Price  \n0                          4.09     23086.800503  1.059034e+06  \n1                          3.09     40173.072174  1.505891e+06  \n2                          5.13     36882.159400  1.058988e+06  \n3                          3.26     34310.242831  1.260617e+06  \n4                          4.23     26354.109472  6.309435e+05  ",
      "text/html": "<div>\n<style scoped>\n    .dataframe tbody tr th:only-of-type {\n        vertical-align: middle;\n    }\n\n    .dataframe tbody tr th {\n        vertical-align: top;\n    }\n\n    .dataframe thead th {\n        text-align: right;\n    }\n</style>\n<table border=\"1\" class=\"dataframe\">\n  <thead>\n    <tr style=\"text-align: right;\">\n      <th></th>\n      <th>Avg. Area Income</th>\n      <th>Avg. Area House Age</th>\n      <th>Avg. Area Number of Rooms</th>\n      <th>Avg. Area Number of Bedrooms</th>\n      <th>Area Population</th>\n      <th>Price</th>\n    </tr>\n  </thead>\n  <tbody>\n    <tr>\n      <th>0</th>\n      <td>79545.458574</td>\n      <td>5.682861</td>\n      <td>7.009188</td>\n      <td>4.09</td>\n      <td>23086.800503</td>\n      <td>1.059034e+06</td>\n    </tr>\n    <tr>\n      <th>1</th>\n      <td>79248.642455</td>\n      <td>6.002900</td>\n      <td>6.730821</td>\n      <td>3.09</td>\n      <td>40173.072174</td>\n      <td>1.505891e+06</td>\n    </tr>\n    <tr>\n      <th>2</th>\n      <td>61287.067179</td>\n      <td>5.865890</td>\n      <td>8.512727</td>\n      <td>5.13</td>\n      <td>36882.159400</td>\n      <td>1.058988e+06</td>\n    </tr>\n    <tr>\n      <th>3</th>\n      <td>63345.240046</td>\n      <td>7.188236</td>\n      <td>5.586729</td>\n      <td>3.26</td>\n      <td>34310.242831</td>\n      <td>1.260617e+06</td>\n    </tr>\n    <tr>\n      <th>4</th>\n      <td>59982.197226</td>\n      <td>5.040555</td>\n      <td>7.839388</td>\n      <td>4.23</td>\n      <td>26354.109472</td>\n      <td>6.309435e+05</td>\n    </tr>\n  </tbody>\n</table>\n</div>"
     },
     "metadata": {},
     "output_type": "execute_result",
     "execution_count": 30
    }
   ],
   "source": [
    "df.head()"
   ]
  },
  {
   "cell_type": "code",
   "execution_count": 31,
   "metadata": {
    "pycharm": {
     "is_executing": false
    }
   },
   "outputs": [
    {
     "name": "stdout",
     "text": [
      "<class 'pandas.core.frame.DataFrame'>\nRangeIndex: 5000 entries, 0 to 4999\nData columns (total 6 columns):\nAvg. Area Income                5000 non-null float64\nAvg. Area House Age             5000 non-null float64\nAvg. Area Number of Rooms       5000 non-null float64\nAvg. Area Number of Bedrooms    5000 non-null float64\nArea Population                 5000 non-null float64\nPrice                           5000 non-null float64\ndtypes: float64(6)\nmemory usage: 234.5 KB\n"
     ],
     "output_type": "stream"
    }
   ],
   "source": [
    "df.info()"
   ]
  },
  {
   "cell_type": "code",
   "execution_count": 32,
   "metadata": {
    "pycharm": {
     "is_executing": false
    }
   },
   "outputs": [],
   "source": [
    "from sklearn import preprocessing\n",
    "pre_process = preprocessing.StandardScaler()\n",
    "\n",
    "df_norm = (df - df.mean()) / (df.max() - df.min())\n",
    "\n",
    "# Putting feature variable to X\n",
    "X = df_norm[['Avg. Area Income','Avg. Area House Age','Avg. Area Number of Rooms','Avg. Area Number of Bedrooms','Area Population']]\n",
    "\n",
    "# Putting response variable to y\n",
    "y = df_norm['Price']\n",
    "\n",
    "\n",
    "X = pd.DataFrame(pre_process.fit_transform(X))\n",
    "\n",
    "#random_state is the seed used by the random number generator, it can be any integer.\n",
    "from sklearn.model_selection import train_test_split\n",
    "X_train, X_test, y_train, y_test = train_test_split(X, y, train_size=0.7 ,test_size = 0.3, random_state=2)\n",
    "\n"
   ]
  },
  {
   "cell_type": "code",
   "execution_count": 33,
   "metadata": {
    "pycharm": {
     "is_executing": false
    }
   },
   "outputs": [
    {
     "data": {
      "text/plain": "   Avg. Area Income  Avg. Area House Age  Avg. Area Number of Rooms  \\\n0          0.121932            -0.042817                   0.002844   \n1          0.118631             0.003735                  -0.034156   \n2         -0.081153            -0.016194                   0.202692   \n3         -0.058260             0.176153                  -0.186228   \n4         -0.095667            -0.136247                   0.113193   \n\n   Avg. Area Number of Bedrooms  Area Population     Price  \n0                      0.024149        -0.188292 -0.070538  \n1                     -0.198073         0.057734  0.111620  \n2                      0.255260         0.010348 -0.070557  \n3                     -0.160296        -0.026685  0.011636  \n4                      0.055260        -0.141246 -0.245046  ",
      "text/html": "<div>\n<style scoped>\n    .dataframe tbody tr th:only-of-type {\n        vertical-align: middle;\n    }\n\n    .dataframe tbody tr th {\n        vertical-align: top;\n    }\n\n    .dataframe thead th {\n        text-align: right;\n    }\n</style>\n<table border=\"1\" class=\"dataframe\">\n  <thead>\n    <tr style=\"text-align: right;\">\n      <th></th>\n      <th>Avg. Area Income</th>\n      <th>Avg. Area House Age</th>\n      <th>Avg. Area Number of Rooms</th>\n      <th>Avg. Area Number of Bedrooms</th>\n      <th>Area Population</th>\n      <th>Price</th>\n    </tr>\n  </thead>\n  <tbody>\n    <tr>\n      <th>0</th>\n      <td>0.121932</td>\n      <td>-0.042817</td>\n      <td>0.002844</td>\n      <td>0.024149</td>\n      <td>-0.188292</td>\n      <td>-0.070538</td>\n    </tr>\n    <tr>\n      <th>1</th>\n      <td>0.118631</td>\n      <td>0.003735</td>\n      <td>-0.034156</td>\n      <td>-0.198073</td>\n      <td>0.057734</td>\n      <td>0.111620</td>\n    </tr>\n    <tr>\n      <th>2</th>\n      <td>-0.081153</td>\n      <td>-0.016194</td>\n      <td>0.202692</td>\n      <td>0.255260</td>\n      <td>0.010348</td>\n      <td>-0.070557</td>\n    </tr>\n    <tr>\n      <th>3</th>\n      <td>-0.058260</td>\n      <td>0.176153</td>\n      <td>-0.186228</td>\n      <td>-0.160296</td>\n      <td>-0.026685</td>\n      <td>0.011636</td>\n    </tr>\n    <tr>\n      <th>4</th>\n      <td>-0.095667</td>\n      <td>-0.136247</td>\n      <td>0.113193</td>\n      <td>0.055260</td>\n      <td>-0.141246</td>\n      <td>-0.245046</td>\n    </tr>\n  </tbody>\n</table>\n</div>"
     },
     "metadata": {},
     "output_type": "execute_result",
     "execution_count": 33
    }
   ],
   "source": [
    "df_norm.head()"
   ]
  },
  {
   "cell_type": "code",
   "execution_count": 34,
   "metadata": {
    "pycharm": {
     "is_executing": false
    }
   },
   "outputs": [
    {
     "data": {
      "text/plain": "(3500, 5)"
     },
     "metadata": {},
     "output_type": "execute_result",
     "execution_count": 34
    }
   ],
   "source": [
    "X_train.shape"
   ]
  },
  {
   "cell_type": "code",
   "execution_count": 35,
   "metadata": {
    "pycharm": {
     "is_executing": false
    }
   },
   "outputs": [
    {
     "data": {
      "text/plain": "             0         1         2         3         4\n2416  1.093700 -0.994827  0.029344 -0.616954 -0.190678\n2417 -0.799519 -1.823848  0.393455 -0.600747  0.925414\n2513 -0.161419  1.520562 -0.749671 -0.398156 -2.099606\n1698 -0.285239 -2.048999  0.434017  1.943795 -0.727932\n3322  0.257655 -0.107375 -0.970804 -1.200416 -0.949652",
      "text/html": "<div>\n<style scoped>\n    .dataframe tbody tr th:only-of-type {\n        vertical-align: middle;\n    }\n\n    .dataframe tbody tr th {\n        vertical-align: top;\n    }\n\n    .dataframe thead th {\n        text-align: right;\n    }\n</style>\n<table border=\"1\" class=\"dataframe\">\n  <thead>\n    <tr style=\"text-align: right;\">\n      <th></th>\n      <th>0</th>\n      <th>1</th>\n      <th>2</th>\n      <th>3</th>\n      <th>4</th>\n    </tr>\n  </thead>\n  <tbody>\n    <tr>\n      <th>2416</th>\n      <td>1.093700</td>\n      <td>-0.994827</td>\n      <td>0.029344</td>\n      <td>-0.616954</td>\n      <td>-0.190678</td>\n    </tr>\n    <tr>\n      <th>2417</th>\n      <td>-0.799519</td>\n      <td>-1.823848</td>\n      <td>0.393455</td>\n      <td>-0.600747</td>\n      <td>0.925414</td>\n    </tr>\n    <tr>\n      <th>2513</th>\n      <td>-0.161419</td>\n      <td>1.520562</td>\n      <td>-0.749671</td>\n      <td>-0.398156</td>\n      <td>-2.099606</td>\n    </tr>\n    <tr>\n      <th>1698</th>\n      <td>-0.285239</td>\n      <td>-2.048999</td>\n      <td>0.434017</td>\n      <td>1.943795</td>\n      <td>-0.727932</td>\n    </tr>\n    <tr>\n      <th>3322</th>\n      <td>0.257655</td>\n      <td>-0.107375</td>\n      <td>-0.970804</td>\n      <td>-1.200416</td>\n      <td>-0.949652</td>\n    </tr>\n  </tbody>\n</table>\n</div>"
     },
     "metadata": {},
     "output_type": "execute_result",
     "execution_count": 35
    }
   ],
   "source": [
    "X_train.head()"
   ]
  },
  {
   "cell_type": "code",
   "execution_count": 36,
   "metadata": {
    "pycharm": {
     "is_executing": false
    }
   },
   "outputs": [],
   "source": [
    "# y_train.reshape(y_train.shape[0],1)"
   ]
  },
  {
   "cell_type": "code",
   "execution_count": 37,
   "metadata": {
    "pycharm": {
     "is_executing": false
    }
   },
   "outputs": [
    {
     "data": {
      "text/plain": "1500"
     },
     "metadata": {},
     "output_type": "execute_result",
     "execution_count": 37
    }
   ],
   "source": [
    "y_test.shape[0]"
   ]
  },
  {
   "cell_type": "code",
   "execution_count": 38,
   "metadata": {
    "pycharm": {
     "is_executing": false
    }
   },
   "outputs": [
    {
     "name": "stdout",
     "text": [
      "train accuracy: 92.51955817871108 %\ntest accuracy: 92.59061713070582 %\ntrain accuracy: 96.6511109236307 %\ntest accuracy: 96.72543736090067 %\n",
      "train accuracy: 96.65585054636293 %\ntest accuracy: 96.74241441485935 %\n"
     ],
     "output_type": "stream"
    }
   ],
   "source": [
    "model1 = model(X_train=X_train, Y_train=y_train, X_test=X_test, Y_test=y_test, num_iterations = 500, learning_rate = 0.001)\n",
    "\n",
    "model2 = model(X_train=X_train, Y_train=y_train, X_test=X_test, Y_test=y_test, num_iterations = 500, learning_rate = 0.01)\n",
    "\n",
    "model3 = model(X_train=X_train, Y_train=y_train, X_test=X_test, Y_test=y_test, num_iterations = 500, learning_rate = 0.1)"
   ]
  },
  {
   "cell_type": "code",
   "execution_count": 39,
   "metadata": {
    "pycharm": {
     "is_executing": false
    }
   },
   "outputs": [
    {
     "data": {
      "text/plain": "<Figure size 432x288 with 1 Axes>",
      "image/png": "[encoded data removed]"
     },
     "metadata": {
      "needs_background": "light"
     },
     "output_type": "display_data"
    }
   ],
   "source": [
    "import matplotlib.pyplot as plt\n",
    "plt.plot([i for i in range(500)], model1['costs'])\n",
    "plt.plot([i for i in range(500)], model2['costs'])\n",
    "plt.plot([i for i in range(500)], model3['costs'])\n",
    "\n",
    "plt.gca().legend(('alpha 0.001','alpha 0.01', 'alpha 0.1'))\n",
    "plt.show()"
   ]
  },
  {
   "cell_type": "code",
   "execution_count": 40,
   "metadata": {
    "pycharm": {
     "is_executing": false,
     "name": "#%%\n"
    }
   },
   "outputs": [],
   "source": [
    "# model4 = model(X_train=X_train, Y_train=y_train, X_test=X_test, Y_test=y_test, num_iterations = 10, learning_rate = 0.01)\n",
    "\n",
    "# model5 = model(X_train=X_train, Y_train=y_train, X_test=X_test, Y_test=y_test, num_iterations = 100, learning_rate = 0.01)\n",
    "\n",
    "# model6 = model(X_train=X_train, Y_train=y_train, X_test=X_test, Y_test=y_test, num_iterations = 1000, learning_rate = 0.01)"
   ]
  }
 ],
 "metadata": {
  "kernelspec": {
   "display_name": "Python 3",
   "language": "python",
   "name": "python3"
  },
  "language_info": {
   "codemirror_mode": {
    "name": "ipython",
    "version": 3
   },
   "file_extension": ".py",
   "mimetype": "text/x-python",
   "name": "python",
   "nbconvert_exporter": "python",
   "pygments_lexer": "ipython3",
   "version": "3.6.8"
  },
  "pycharm": {
   "stem_cell": {
    "cell_type": "raw",
    "source": [],
    "metadata": {
     "collapsed": false
    }
   }
  }
 },
 "nbformat": 4,
 "nbformat_minor": 2
}